{
 "cells": [
  {
   "cell_type": "code",
   "execution_count": 1,
   "id": "8aa300ed-7e4e-4b84-b97e-826cf59994bd",
   "metadata": {},
   "outputs": [],
   "source": [
    "import pandas as pd\n",
    "import numpy as np\n",
    "from sklearn.metrics.pairwise import cosine_similarity\n",
    "from sklearn.preprocessing import StandardScaler\n",
    "import csv"
   ]
  },
  {
   "cell_type": "code",
   "execution_count": 35,
   "id": "56c6b7c5-7ad8-4528-99de-7cd020dfaa01",
   "metadata": {},
   "outputs": [],
   "source": [
    "customers_data = pd.read_csv(r\"C:\\Users\\ASUS\\Documents\\project_zeotap\\Customers.csv\")  # Customer profile data\n",
    "transactions_data = pd.read_csv(r\"C:\\Users\\ASUS\\Documents\\project_zeotap\\Transactions.csv\")  # Customer transaction data\n",
    "products_df = pd.read_csv(r\"C:\\Users\\ASUS\\Documents\\project_zeotap\\Products.csv\")  # Transaction data"
   ]
  },
  {
   "cell_type": "code",
   "execution_count": 37,
   "id": "a00f6113-7ff2-4c07-8541-c821a827a5ac",
   "metadata": {},
   "outputs": [],
   "source": [
    "merged_data = pd.merge(transactions_data, customers_data[['CustomerID', 'Region']], on='CustomerID', how='left')\n"
   ]
  },
  {
   "cell_type": "code",
   "execution_count": 39,
   "id": "eec31fc2-f500-43a9-a023-6d99382d9d8d",
   "metadata": {},
   "outputs": [],
   "source": [
    "customer_features = merged_data.groupby('CustomerID').agg(\n",
    "    total_spent=pd.NamedAgg(column='TotalValue', aggfunc='sum'),\n",
    "    num_purchases=pd.NamedAgg(column='TotalValue', aggfunc='count'),\n",
    "    region=pd.NamedAgg(column='Region', aggfunc=lambda x: x.mode()[0])  # Most common region\n",
    ").reset_index()"
   ]
  },
  {
   "cell_type": "code",
   "execution_count": 41,
   "id": "2fcf52fd-7e7a-4360-a0df-b363e97005ca",
   "metadata": {},
   "outputs": [],
   "source": [
    "merged_data = pd.merge(merged_data, products_df[['ProductID', 'Category']], on='ProductID', how='left')\n"
   ]
  },
  {
   "cell_type": "code",
   "execution_count": 43,
   "id": "117bb6b4-30b5-4289-b6eb-f97ab4e711b7",
   "metadata": {},
   "outputs": [],
   "source": [
    "category_features = merged_data.groupby('CustomerID')['Category'].value_counts().unstack(fill_value=0)\n",
    "category_features.reset_index(inplace=True)\n"
   ]
  },
  {
   "cell_type": "code",
   "execution_count": 45,
   "id": "1fe6e871-cf2f-456f-8d52-07c9d87b25a5",
   "metadata": {},
   "outputs": [],
   "source": [
    "final_features = pd.merge(customer_features, category_features, on='CustomerID', how='left')\n"
   ]
  },
  {
   "cell_type": "code",
   "execution_count": 47,
   "id": "d76aeba3-9e87-4f83-9623-da896e307c05",
   "metadata": {},
   "outputs": [],
   "source": [
    "scaler = StandardScaler()\n",
    "numerical_cols = ['total_spent', 'num_purchases']\n",
    "final_features[numerical_cols] = scaler.fit_transform(final_features[numerical_cols])"
   ]
  },
  {
   "cell_type": "code",
   "execution_count": 49,
   "id": "73c3bfcc-7644-4a0e-8d56-60244710d070",
   "metadata": {},
   "outputs": [],
   "source": [
    "final_features = pd.get_dummies(final_features, columns=['region'], drop_first=True)\n"
   ]
  },
  {
   "cell_type": "code",
   "execution_count": 51,
   "id": "1d451ce6-8a45-4727-8911-ac44f8a7273c",
   "metadata": {},
   "outputs": [],
   "source": [
    "\n",
    "customer_category_matrix = category_features.set_index('CustomerID')\n",
    "\n"
   ]
  },
  {
   "cell_type": "code",
   "execution_count": 53,
   "id": "b91ea991-a69d-44b7-84b7-8f17b0a0697e",
   "metadata": {},
   "outputs": [],
   "source": [
    "# Calculate cosine similarity between customers based on product categories\n",
    "category_similarity = cosine_similarity(customer_category_matrix)\n",
    "\n"
   ]
  },
  {
   "cell_type": "code",
   "execution_count": 55,
   "id": "9052a083-eeb3-4e39-8178-bb2301b14b5c",
   "metadata": {},
   "outputs": [],
   "source": [
    "# Content-Based Filtering: Based on customer profile (spending, number of purchases, region)\n",
    "profile_matrix = final_features.drop(columns=['CustomerID'])"
   ]
  },
  {
   "cell_type": "code",
   "execution_count": 57,
   "id": "ae04264f-6da6-4d8d-88ec-99e495302fdf",
   "metadata": {},
   "outputs": [],
   "source": [
    "# Calculate cosine similarity between customers based on profile features\n",
    "profile_similarity = cosine_similarity(profile_matrix)\n",
    "\n"
   ]
  },
  {
   "cell_type": "code",
   "execution_count": 59,
   "id": "f42b7f8f-eba8-4190-ae4f-85a51b3ca76f",
   "metadata": {},
   "outputs": [],
   "source": [
    "# Combine the two similarity matrices (equal weightage for both methods)\n",
    "final_similarity_matrix = (category_similarity + profile_similarity) / 2"
   ]
  },
  {
   "cell_type": "code",
   "execution_count": 61,
   "id": "2e9c6824-fabd-4f5c-b261-575c004f57de",
   "metadata": {},
   "outputs": [],
   "source": [
    "def get_top_3_similar_customers(customer_id, similarity_matrix, n=3):\n",
    "    # Get the similarity scores for the given customer and sort by similarity (excluding the customer itself)\n",
    "    similarity_scores = similarity_matrix[customer_id]\n",
    "    similar_customers = np.argsort(similarity_scores)[::-1][1:n+1]  # Get top n similar customers (excluding the self)\n",
    "    scores = similarity_scores[similar_customers]\n",
    "    return similar_customers.tolist(), scores.tolist()"
   ]
  },
  {
   "cell_type": "code",
   "execution_count": 63,
   "id": "bb827075-8853-4705-a233-a08a8dadb1aa",
   "metadata": {},
   "outputs": [],
   "source": [
    "# Create a dictionary to store the recommendations\n",
    "lookalike_dict = {}\n",
    "\n",
    "# For customers C0001 to C0020, recommend top 3 similar customers\n",
    "for customer_id_int in range(1, 21):  # C0001 to C0020\n",
    "    customer_id_str = f'C{customer_id_int:04d}'\n",
    "    customer_index = final_features[final_features['CustomerID'] == customer_id_str].index[0]  # Get index for similarity matrix\n",
    "    similar_customers, similarity_scores = get_top_3_similar_customers(customer_index, final_similarity_matrix)\n",
    "    \n",
    "    # Map CustomerID to their lookalikes with similarity scores\n",
    "    similar_customer_ids = final_features['CustomerID'].iloc[similar_customers].tolist()\n",
    "    lookalike_dict[customer_id_str] = list(zip(similar_customer_ids, similarity_scores))"
   ]
  },
  {
   "cell_type": "code",
   "execution_count": 65,
   "id": "6404985c-e0c2-472f-802d-6dacf3fe900b",
   "metadata": {},
   "outputs": [
    {
     "name": "stdout",
     "output_type": "stream",
     "text": [
      "Lookalike recommendations have been successfully saved to 'Lookalike.csv'\n"
     ]
    }
   ],
   "source": [
    "import csv\n",
    "\n",
    "with open('Lookalike.csv', mode='w', newline='') as file:\n",
    "    writer = csv.writer(file)\n",
    "    writer.writerow([\"cust_id\", \"similar_customers_and_scores\"])\n",
    "    for key, value in lookalike_dict.items():\n",
    "        writer.writerow([key, value])\n",
    "\n",
    "print(\"Lookalike recommendations have been successfully saved to 'Lookalike.csv'\")"
   ]
  },
  {
   "cell_type": "code",
   "execution_count": 72,
   "id": "2566ad69-16cf-49ae-8173-1e1323e5f270",
   "metadata": {},
   "outputs": [],
   "source": [
    "lookalike_df = pd.read_csv('Lookalike.csv')"
   ]
  },
  {
   "cell_type": "code",
   "execution_count": 78,
   "id": "f3592e42-e571-45d1-b240-a8f5b7c35b5c",
   "metadata": {},
   "outputs": [
    {
     "name": "stdout",
     "output_type": "stream",
     "text": [
      "\n",
      "Top 3 lookalikes with similarity scores:\n"
     ]
    },
    {
     "data": {
      "text/html": [
       "<div>\n",
       "<style scoped>\n",
       "    .dataframe tbody tr th:only-of-type {\n",
       "        vertical-align: middle;\n",
       "    }\n",
       "\n",
       "    .dataframe tbody tr th {\n",
       "        vertical-align: top;\n",
       "    }\n",
       "\n",
       "    .dataframe thead th {\n",
       "        text-align: right;\n",
       "    }\n",
       "</style>\n",
       "<table border=\"1\" class=\"dataframe\">\n",
       "  <thead>\n",
       "    <tr style=\"text-align: right;\">\n",
       "      <th></th>\n",
       "      <th>index</th>\n",
       "      <th>cust_id</th>\n",
       "      <th>similar_customers_and_scores</th>\n",
       "    </tr>\n",
       "  </thead>\n",
       "  <tbody>\n",
       "    <tr>\n",
       "      <th>0</th>\n",
       "      <td>0</td>\n",
       "      <td>C0001</td>\n",
       "      <td>[('C0146', 0.9486577745774705), ('C0127', 0.92...</td>\n",
       "    </tr>\n",
       "    <tr>\n",
       "      <th>1</th>\n",
       "      <td>1</td>\n",
       "      <td>C0002</td>\n",
       "      <td>[('C0134', 0.9671737859185701), ('C0133', 0.96...</td>\n",
       "    </tr>\n",
       "    <tr>\n",
       "      <th>2</th>\n",
       "      <td>2</td>\n",
       "      <td>C0003</td>\n",
       "      <td>[('C0031', 0.9951514119095752), ('C0158', 0.98...</td>\n",
       "    </tr>\n",
       "    <tr>\n",
       "      <th>3</th>\n",
       "      <td>3</td>\n",
       "      <td>C0004</td>\n",
       "      <td>[('C0113', 0.9575171308333958), ('C0047', 0.93...</td>\n",
       "    </tr>\n",
       "    <tr>\n",
       "      <th>4</th>\n",
       "      <td>4</td>\n",
       "      <td>C0005</td>\n",
       "      <td>[('C0007', 0.9966792358944401), ('C0197', 0.96...</td>\n",
       "    </tr>\n",
       "  </tbody>\n",
       "</table>\n",
       "</div>"
      ],
      "text/plain": [
       "   index cust_id                       similar_customers_and_scores\n",
       "0      0   C0001  [('C0146', 0.9486577745774705), ('C0127', 0.92...\n",
       "1      1   C0002  [('C0134', 0.9671737859185701), ('C0133', 0.96...\n",
       "2      2   C0003  [('C0031', 0.9951514119095752), ('C0158', 0.98...\n",
       "3      3   C0004  [('C0113', 0.9575171308333958), ('C0047', 0.93...\n",
       "4      4   C0005  [('C0007', 0.9966792358944401), ('C0197', 0.96..."
      ]
     },
     "execution_count": 78,
     "metadata": {},
     "output_type": "execute_result"
    }
   ],
   "source": [
    "print(\"\\nTop 3 lookalikes with similarity scores:\")\n",
    "lookalike_df.head().reset_index()"
   ]
  },
  {
   "cell_type": "code",
   "execution_count": null,
   "id": "58ca89cb-3a74-4727-9b40-09da23785799",
   "metadata": {},
   "outputs": [],
   "source": []
  },
  {
   "cell_type": "code",
   "execution_count": 83,
   "id": "a434c6a8-ea61-47b6-9005-800ac9daac66",
   "metadata": {},
   "outputs": [
    {
     "data": {
      "text/html": [
       "<div>\n",
       "<style scoped>\n",
       "    .dataframe tbody tr th:only-of-type {\n",
       "        vertical-align: middle;\n",
       "    }\n",
       "\n",
       "    .dataframe tbody tr th {\n",
       "        vertical-align: top;\n",
       "    }\n",
       "\n",
       "    .dataframe thead th {\n",
       "        text-align: right;\n",
       "    }\n",
       "</style>\n",
       "<table border=\"1\" class=\"dataframe\">\n",
       "  <thead>\n",
       "    <tr style=\"text-align: right;\">\n",
       "      <th></th>\n",
       "      <th>cust_id</th>\n",
       "      <th>similar_customers_and_scores</th>\n",
       "    </tr>\n",
       "  </thead>\n",
       "  <tbody>\n",
       "    <tr>\n",
       "      <th>0</th>\n",
       "      <td>C0001</td>\n",
       "      <td>[('C0146', 0.9486577745774705), ('C0127', 0.92...</td>\n",
       "    </tr>\n",
       "    <tr>\n",
       "      <th>1</th>\n",
       "      <td>C0002</td>\n",
       "      <td>[('C0134', 0.9671737859185701), ('C0133', 0.96...</td>\n",
       "    </tr>\n",
       "    <tr>\n",
       "      <th>2</th>\n",
       "      <td>C0003</td>\n",
       "      <td>[('C0031', 0.9951514119095752), ('C0158', 0.98...</td>\n",
       "    </tr>\n",
       "    <tr>\n",
       "      <th>3</th>\n",
       "      <td>C0004</td>\n",
       "      <td>[('C0113', 0.9575171308333958), ('C0047', 0.93...</td>\n",
       "    </tr>\n",
       "    <tr>\n",
       "      <th>4</th>\n",
       "      <td>C0005</td>\n",
       "      <td>[('C0007', 0.9966792358944401), ('C0197', 0.96...</td>\n",
       "    </tr>\n",
       "    <tr>\n",
       "      <th>5</th>\n",
       "      <td>C0006</td>\n",
       "      <td>[('C0187', 0.9478437526382896), ('C0135', 0.91...</td>\n",
       "    </tr>\n",
       "    <tr>\n",
       "      <th>6</th>\n",
       "      <td>C0007</td>\n",
       "      <td>[('C0005', 0.9966792358944401), ('C0197', 0.96...</td>\n",
       "    </tr>\n",
       "    <tr>\n",
       "      <th>7</th>\n",
       "      <td>C0008</td>\n",
       "      <td>[('C0162', 0.9703401645516392), ('C0154', 0.96...</td>\n",
       "    </tr>\n",
       "    <tr>\n",
       "      <th>8</th>\n",
       "      <td>C0009</td>\n",
       "      <td>[('C0198', 0.9395801156335459), ('C0092', 0.90...</td>\n",
       "    </tr>\n",
       "    <tr>\n",
       "      <th>9</th>\n",
       "      <td>C0010</td>\n",
       "      <td>[('C0061', 0.9771907377004081), ('C0176', 0.92...</td>\n",
       "    </tr>\n",
       "    <tr>\n",
       "      <th>10</th>\n",
       "      <td>C0011</td>\n",
       "      <td>[('C0126', 0.9892495503084455), ('C0027', 0.94...</td>\n",
       "    </tr>\n",
       "    <tr>\n",
       "      <th>11</th>\n",
       "      <td>C0012</td>\n",
       "      <td>[('C0065', 0.9761807126049422), ('C0104', 0.97...</td>\n",
       "    </tr>\n",
       "    <tr>\n",
       "      <th>12</th>\n",
       "      <td>C0013</td>\n",
       "      <td>[('C0107', 0.9647726779643865), ('C0105', 0.95...</td>\n",
       "    </tr>\n",
       "    <tr>\n",
       "      <th>13</th>\n",
       "      <td>C0014</td>\n",
       "      <td>[('C0060', 0.999694088898869), ('C0097', 0.968...</td>\n",
       "    </tr>\n",
       "    <tr>\n",
       "      <th>14</th>\n",
       "      <td>C0015</td>\n",
       "      <td>[('C0123', 0.9593764657124806), ('C0131', 0.92...</td>\n",
       "    </tr>\n",
       "    <tr>\n",
       "      <th>15</th>\n",
       "      <td>C0016</td>\n",
       "      <td>[('C0183', 0.9999956595694699), ('C0049', 0.95...</td>\n",
       "    </tr>\n",
       "    <tr>\n",
       "      <th>16</th>\n",
       "      <td>C0017</td>\n",
       "      <td>[('C0075', 0.9815973201207326), ('C0090', 0.96...</td>\n",
       "    </tr>\n",
       "    <tr>\n",
       "      <th>17</th>\n",
       "      <td>C0018</td>\n",
       "      <td>[('C0021', 0.9267784366944034), ('C0125', 0.91...</td>\n",
       "    </tr>\n",
       "    <tr>\n",
       "      <th>18</th>\n",
       "      <td>C0019</td>\n",
       "      <td>[('C0070', 0.9725795458839057), ('C0191', 0.95...</td>\n",
       "    </tr>\n",
       "    <tr>\n",
       "      <th>19</th>\n",
       "      <td>C0020</td>\n",
       "      <td>[('C0130', 0.9331634288662912), ('C0186', 0.80...</td>\n",
       "    </tr>\n",
       "  </tbody>\n",
       "</table>\n",
       "</div>"
      ],
      "text/plain": [
       "   cust_id                       similar_customers_and_scores\n",
       "0    C0001  [('C0146', 0.9486577745774705), ('C0127', 0.92...\n",
       "1    C0002  [('C0134', 0.9671737859185701), ('C0133', 0.96...\n",
       "2    C0003  [('C0031', 0.9951514119095752), ('C0158', 0.98...\n",
       "3    C0004  [('C0113', 0.9575171308333958), ('C0047', 0.93...\n",
       "4    C0005  [('C0007', 0.9966792358944401), ('C0197', 0.96...\n",
       "5    C0006  [('C0187', 0.9478437526382896), ('C0135', 0.91...\n",
       "6    C0007  [('C0005', 0.9966792358944401), ('C0197', 0.96...\n",
       "7    C0008  [('C0162', 0.9703401645516392), ('C0154', 0.96...\n",
       "8    C0009  [('C0198', 0.9395801156335459), ('C0092', 0.90...\n",
       "9    C0010  [('C0061', 0.9771907377004081), ('C0176', 0.92...\n",
       "10   C0011  [('C0126', 0.9892495503084455), ('C0027', 0.94...\n",
       "11   C0012  [('C0065', 0.9761807126049422), ('C0104', 0.97...\n",
       "12   C0013  [('C0107', 0.9647726779643865), ('C0105', 0.95...\n",
       "13   C0014  [('C0060', 0.999694088898869), ('C0097', 0.968...\n",
       "14   C0015  [('C0123', 0.9593764657124806), ('C0131', 0.92...\n",
       "15   C0016  [('C0183', 0.9999956595694699), ('C0049', 0.95...\n",
       "16   C0017  [('C0075', 0.9815973201207326), ('C0090', 0.96...\n",
       "17   C0018  [('C0021', 0.9267784366944034), ('C0125', 0.91...\n",
       "18   C0019  [('C0070', 0.9725795458839057), ('C0191', 0.95...\n",
       "19   C0020  [('C0130', 0.9331634288662912), ('C0186', 0.80..."
      ]
     },
     "execution_count": 83,
     "metadata": {},
     "output_type": "execute_result"
    }
   ],
   "source": [
    "lookalike_df"
   ]
  },
  {
   "cell_type": "code",
   "execution_count": null,
   "id": "f8b984e2-9d86-4f28-a539-021026b4d682",
   "metadata": {},
   "outputs": [],
   "source": []
  },
  {
   "cell_type": "code",
   "execution_count": null,
   "id": "5b42c862-74c6-46e5-959f-a917fe7a186b",
   "metadata": {},
   "outputs": [],
   "source": []
  }
 ],
 "metadata": {
  "kernelspec": {
   "display_name": "Python 3 (ipykernel)",
   "language": "python",
   "name": "python3"
  },
  "language_info": {
   "codemirror_mode": {
    "name": "ipython",
    "version": 3
   },
   "file_extension": ".py",
   "mimetype": "text/x-python",
   "name": "python",
   "nbconvert_exporter": "python",
   "pygments_lexer": "ipython3",
   "version": "3.12.4"
  }
 },
 "nbformat": 4,
 "nbformat_minor": 5
}
